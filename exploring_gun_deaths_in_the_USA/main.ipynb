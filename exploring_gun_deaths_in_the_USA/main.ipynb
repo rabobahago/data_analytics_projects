{
 "cells": [
  {
   "cell_type": "markdown",
   "metadata": {},
   "source": [
    "# Exploring Gun Deaths in the US\n",
    "The data set contains information on gun deaths in the US from 2012 to 2014. Each row in the dataset represents a single fatality. Here's an explanation of each column:\n",
    "\n",
    "-- this is an identifier column, which contains the row number. It's common in CSV files to include a unique identifier for each - row, but we can ignore it in this analysis.\n",
    "\n",
    "- year -- the year in which the fatality occurred.\n",
    "- month -- the month in which the fatality occurred.\n",
    "- intent -- the intent of the perpetrator of the crime. This can be Suicide, Accidental, NA, Homicide, or Undetermined.\n",
    "- police -- whether a police officer was involved with the shooting. Either 0 (false) or 1 (true).\n",
    "- sex -- the gender of the victim. Either M or F.\n",
    "- age -- the age of the victim.\n",
    "- race -- the race of the victim. Either Asian/Pacific Islander, Native American/Native Alaskan, Black, Hispanic, or White.\n",
    "- hispanic -- a code indicating the Hispanic origin of the victim.\n",
    "- place -- where the shooting occurred. Has several categories, which you're encouraged to explore on your own.\n",
    "- education -- educational status of the victim. Can be one of the following:\n",
    "    1 -- Less than High School\n",
    "    2 -- Graduated from High School or equivalent\n",
    "    3 -- Some College\n",
    "    4 -- At least graduated from College\n",
    "    5 -- Not available"
   ]
  }
 ],
 "metadata": {
  "language_info": {
   "name": "python"
  }
 },
 "nbformat": 4,
 "nbformat_minor": 2
}
