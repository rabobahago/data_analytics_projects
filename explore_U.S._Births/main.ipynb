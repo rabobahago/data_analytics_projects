{
 "cells": [
  {
   "cell_type": "markdown",
   "metadata": {},
   "source": [
    "# Explore U.S. Births\n",
    "\n",
    "The raw data behind the story Some people are too supersitious to have a baby on Friday the 13th. We will be woking with the data set from the Centers for Disease Control and Prevention's National Center for Health Sratistics. The data set has the following structure:\n",
    "\n",
    "- year - Year\n",
    "- month - Month\n",
    "- date_of_month - Day number of the month\n",
    "- day_of_the_week - Day of week, where 1 is Monday and 7 is Sunday\n",
    "- births - Number of births"
   ]
  },
  {
   "cell_type": "code",
   "execution_count": 6,
   "metadata": {},
   "outputs": [
    {
     "data": {
      "text/plain": [
       "[['1994', '1', '1', '6', '8096'],\n",
       " ['1994', '1', '2', '7', '7772'],\n",
       " ['1994', '1', '3', '1', '10142'],\n",
       " ['1994', '1', '4', '2', '11248'],\n",
       " ['1994', '1', '5', '3', '11053']]"
      ]
     },
     "execution_count": 6,
     "metadata": {},
     "output_type": "execute_result"
    }
   ],
   "source": [
    "def read_csv(file_name):\n",
    "    f = open(file_name, 'r')\n",
    "    s = f.read()\n",
    "    string_list = s.split(\"\\n\")[1:]\n",
    "    final_list = []\n",
    "    for row in string_list:\n",
    "        int_fields = []\n",
    "\n",
    "        string_value = row.split(',')\n",
    "        for value in string_value:\n",
    "            int_fields.append(value)\n",
    "        final_list.append(int_fields)\n",
    "    return final_list\n",
    "cdc_list = read_csv(\"US_births_1994-2003_CDC_NCHS.csv\")\n",
    "cdc_list[0:5]"
   ]
  },
  {
   "cell_type": "code",
   "execution_count": 7,
   "metadata": {},
   "outputs": [
    {
     "data": {
      "text/plain": [
       "{'1': 5}"
      ]
     },
     "execution_count": 7,
     "metadata": {},
     "output_type": "execute_result"
    }
   ],
   "source": [
    "def month_births(input_list):\n",
    "    birth_per_month = {}\n",
    "    for row in input_list:\n",
    "        month = row[1]\n",
    "        if month in birth_per_month:\n",
    "            birth_per_month[month] += 1\n",
    "        else:\n",
    "            birth_per_month[month] = 1\n",
    "    return birth_per_month\n",
    "\n",
    "cdc_month_births = month_births(cdc_list[:5])\n",
    "cdc_month_births\n"
   ]
  },
  {
   "cell_type": "code",
   "execution_count": 8,
   "metadata": {},
   "outputs": [
    {
     "data": {
      "text/plain": [
       "{'6': '8096', '7': '7772', '1': '10142', '2': '11248', '3': '11053'}"
      ]
     },
     "execution_count": 8,
     "metadata": {},
     "output_type": "execute_result"
    }
   ],
   "source": [
    "def dow_births(input_list):\n",
    "    births_per_day = {}\n",
    "    for row in input_list:\n",
    "        day = row[3]\n",
    "        births = row[4]\n",
    "        if day in births_per_day:\n",
    "            births_per_day[day] += births\n",
    "        else:\n",
    "            births_per_day[day] = births\n",
    "    return births_per_day\n",
    "\n",
    "cdc_day_births = dow_births(cdc_list[:5])\n",
    "cdc_day_births"
   ]
  },
  {
   "cell_type": "code",
   "execution_count": 9,
   "metadata": {},
   "outputs": [],
   "source": [
    "def calc_counts(data,column):\n",
    "    birth_per_column = {}\n",
    "    for row in data:\n",
    "        if row[column] in birth_per_column:\n",
    "            birth_per_column[row[column]] += 1\n",
    "        else:\n",
    "            birth_per_column[row[column]] = 1\n",
    "    return birth_per_column"
   ]
  },
  {
   "cell_type": "code",
   "execution_count": 10,
   "metadata": {},
   "outputs": [],
   "source": [
    "cdc_year_births = calc_counts(cdc_list,0)"
   ]
  },
  {
   "cell_type": "code",
   "execution_count": 12,
   "metadata": {},
   "outputs": [
    {
     "data": {
      "text/plain": [
       "{'1994': 365,\n",
       " '1995': 365,\n",
       " '1996': 366,\n",
       " '1997': 365,\n",
       " '1998': 365,\n",
       " '1999': 365,\n",
       " '2000': 366,\n",
       " '2001': 365,\n",
       " '2002': 365,\n",
       " '2003': 365}"
      ]
     },
     "execution_count": 12,
     "metadata": {},
     "output_type": "execute_result"
    }
   ],
   "source": [
    "cdc_year_births"
   ]
  },
  {
   "cell_type": "code",
   "execution_count": 13,
   "metadata": {},
   "outputs": [
    {
     "data": {
      "text/plain": [
       "{'1': 310,\n",
       " '2': 282,\n",
       " '3': 310,\n",
       " '4': 300,\n",
       " '5': 310,\n",
       " '6': 300,\n",
       " '7': 310,\n",
       " '8': 310,\n",
       " '9': 300,\n",
       " '10': 310,\n",
       " '11': 300,\n",
       " '12': 310}"
      ]
     },
     "execution_count": 13,
     "metadata": {},
     "output_type": "execute_result"
    }
   ],
   "source": [
    "cdc_month_births = calc_counts(cdc_list,1)\n",
    "cdc_month_births"
   ]
  },
  {
   "cell_type": "code",
   "execution_count": 14,
   "metadata": {},
   "outputs": [
    {
     "data": {
      "text/plain": [
       "{'1': 120,\n",
       " '2': 120,\n",
       " '3': 120,\n",
       " '4': 120,\n",
       " '5': 120,\n",
       " '6': 120,\n",
       " '7': 120,\n",
       " '8': 120,\n",
       " '9': 120,\n",
       " '10': 120,\n",
       " '11': 120,\n",
       " '12': 120,\n",
       " '13': 120,\n",
       " '14': 120,\n",
       " '15': 120,\n",
       " '16': 120,\n",
       " '17': 120,\n",
       " '18': 120,\n",
       " '19': 120,\n",
       " '20': 120,\n",
       " '21': 120,\n",
       " '22': 120,\n",
       " '23': 120,\n",
       " '24': 120,\n",
       " '25': 120,\n",
       " '26': 120,\n",
       " '27': 120,\n",
       " '28': 120,\n",
       " '29': 112,\n",
       " '30': 110,\n",
       " '31': 70}"
      ]
     },
     "execution_count": 14,
     "metadata": {},
     "output_type": "execute_result"
    }
   ],
   "source": [
    "cdc_dom_births = calc_counts(cdc_list,2)\n",
    "cdc_dom_births"
   ]
  },
  {
   "cell_type": "code",
   "execution_count": null,
   "metadata": {},
   "outputs": [],
   "source": []
  }
 ],
 "metadata": {
  "kernelspec": {
   "display_name": "base",
   "language": "python",
   "name": "python3"
  },
  "language_info": {
   "codemirror_mode": {
    "name": "ipython",
    "version": 3
   },
   "file_extension": ".py",
   "mimetype": "text/x-python",
   "name": "python",
   "nbconvert_exporter": "python",
   "pygments_lexer": "ipython3",
   "version": "3.10.9"
  }
 },
 "nbformat": 4,
 "nbformat_minor": 2
}
