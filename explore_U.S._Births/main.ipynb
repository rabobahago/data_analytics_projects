{
 "cells": [
  {
   "cell_type": "markdown",
   "metadata": {},
   "source": [
    "# Explore U.S. Births\n",
    "\n",
    "The raw data behind the story Some people are too supersitious to have a baby on Friday the 13th. We will be woking with the data set from the Centers for Disease Control and Prevention's National Center for Health Sratistics. The data set has the following structure:\n",
    "\n",
    "- year - Year\n",
    "- month - Month\n",
    "- date_of_month - Day number of the month\n",
    "- day_of_the_week - Day of week, where 1 is Monday and 7 is Sunday\n",
    "- births - Number of births"
   ]
  },
  {
   "cell_type": "code",
   "execution_count": 7,
   "metadata": {},
   "outputs": [
    {
     "data": {
      "text/plain": [
       "[['1994', '1', '1', '6', '8096'],\n",
       " ['1994', '1', '2', '7', '7772'],\n",
       " ['1994', '1', '3', '1', '10142'],\n",
       " ['1994', '1', '4', '2', '11248'],\n",
       " ['1994', '1', '5', '3', '11053'],\n",
       " ['1994', '1', '6', '4', '11406'],\n",
       " ['1994', '1', '7', '5', '11251'],\n",
       " ['1994', '1', '8', '6', '8653'],\n",
       " ['1994', '1', '9', '7', '7910'],\n",
       " ['1994', '1', '10', '1', '10498']]"
      ]
     },
     "execution_count": 7,
     "metadata": {},
     "output_type": "execute_result"
    }
   ],
   "source": [
    "def read_csv(file_name):\n",
    "    f = open(file_name, 'r')\n",
    "    s = f.read()\n",
    "    string_list = s.split(\"\\n\")[1:]\n",
    "    final_list = []\n",
    "    for row in string_list:\n",
    "        int_fields = []\n",
    "\n",
    "        string_value = row.split(',')\n",
    "        for value in string_value:\n",
    "            int_fields.append(value)\n",
    "        final_list.append(int_fields)\n",
    "    return final_list\n",
    "cdc_list = read_csv(\"US_births_1994-2003_CDC_NCHS.csv\")\n",
    "cdc_list[0:10]"
   ]
  },
  {
   "cell_type": "code",
   "execution_count": 8,
   "metadata": {},
   "outputs": [
    {
     "data": {
      "text/plain": [
       "{'1': 310,\n",
       " '2': 282,\n",
       " '3': 310,\n",
       " '4': 300,\n",
       " '5': 310,\n",
       " '6': 300,\n",
       " '7': 310,\n",
       " '8': 310,\n",
       " '9': 300,\n",
       " '10': 310,\n",
       " '11': 300,\n",
       " '12': 310}"
      ]
     },
     "execution_count": 8,
     "metadata": {},
     "output_type": "execute_result"
    }
   ],
   "source": [
    "def month_births(input_list):\n",
    "    birth_per_month = {}\n",
    "    for row in input_list:\n",
    "        month = row[1]\n",
    "        if month in birth_per_month:\n",
    "            birth_per_month[month] += 1\n",
    "        else:\n",
    "            birth_per_month[month] = 1\n",
    "    return birth_per_month\n",
    "\n",
    "cdc_month_births = month_births(cdc_list)\n",
    "cdc_month_births\n"
   ]
  },
  {
   "cell_type": "code",
   "execution_count": null,
   "metadata": {},
   "outputs": [],
   "source": []
  }
 ],
 "metadata": {
  "kernelspec": {
   "display_name": "base",
   "language": "python",
   "name": "python3"
  },
  "language_info": {
   "codemirror_mode": {
    "name": "ipython",
    "version": 3
   },
   "file_extension": ".py",
   "mimetype": "text/x-python",
   "name": "python",
   "nbconvert_exporter": "python",
   "pygments_lexer": "ipython3",
   "version": "3.10.9"
  }
 },
 "nbformat": 4,
 "nbformat_minor": 2
}
