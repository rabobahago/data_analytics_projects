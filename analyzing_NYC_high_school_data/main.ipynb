{
 "cells": [
  {
   "cell_type": "markdown",
   "metadata": {},
   "source": [
    "# Analyzing NYC High School Data\n",
    "We will work with the fillowing interrelated data sets about New York City public schools:\n",
    "\n",
    "- [SAT scores by school](https://data.cityofnewyork.us/Education/2012-SAT-Results/f9bf-2cp4) - SAT scores for each high school in New York City\n",
    "\n",
    "- [SAT scores by school](https://data.cityofnewyork.us/Education/2010-2011-School-Attendance-and-Enrollment-Statist/7z8d-msnt) - Attendance information for each school in New York City\n",
    "\n",
    "- [Class size](https://data.cityofnewyork.us/Education/2010-2011-Class-Size-School-level-detail/urz7-pzb3) - Information on class size for each school\n",
    "\n",
    "- [AP test results](https://data.cityofnewyork.us/Education/2010-AP-College-Board-School-Level-Results/itfs-ms3e) - Advanced Placement (AP) exam results for each high school\n",
    "\n",
    "- [Graduation outcomes](https://data.cityofnewyork.us/Education/2005-2010-Graduation-Outcomes-School-Level/vh2h-md7a) - The percentage of students who graduated, and other outcome information\n",
    "\n",
    "- [Demographics](https://data.cityofnewyork.us/Education/2006-2012-School-Demographics-and-Accountability-S/ihfw-zy9j) - Demographic information for each school\n",
    "\n",
    "- [School survey](https://data.cityofnewyork.us/Education/2011-NYC-School-Survey/mnz3-dyi8) - Surveys of parents, teachers, and students at each school"
   ]
  },
  {
   "cell_type": "markdown",
   "metadata": {},
   "source": [
    "### Reading in the data"
   ]
  },
  {
   "cell_type": "code",
   "execution_count": 5,
   "metadata": {},
   "outputs": [],
   "source": [
    "# reading in the CSV files\n",
    "\n",
    "import pandas as pd\n",
    "data_files = [\"ap_2010.csv\",\n",
    "\"class_size.csv\",\n",
    "\"demographics.csv\",\n",
    "\"graduation.csv\",\n",
    "\"hs_directory.csv\",\n",
    "\"sat_results.csv\"]\n",
    "data = {}\n",
    "for file in data_files:\n",
    "    data[file.replace('.csv', '')] = pd.read_csv(file)\n"
   ]
  },
  {
   "cell_type": "code",
   "execution_count": 17,
   "metadata": {},
   "outputs": [],
   "source": [
    "# Reading in the survey data\n",
    "\n",
    "all_survey = pd.read_csv(\"survey_all .txt\",delimiter=\"\\t\",encoding=\"windows-1252\")\n",
    "d75_survey = pd.read_csv(\"survey_d75.txt\",delimiter=\"\\t\",encoding=\"windows-1252\")\n",
    "survey = pd.concat([all_survey,d75_survey],axis=0,sort=True)\n"
   ]
  },
  {
   "cell_type": "markdown",
   "metadata": {},
   "source": [
    "### Cleaning the Data"
   ]
  },
  {
   "cell_type": "code",
   "execution_count": 26,
   "metadata": {},
   "outputs": [],
   "source": [
    "# Cleaning Up the Surveys\n",
    "\n",
    "survey[\"DBN\"]=survey[\"DBN\"]\n",
    "survey = survey.loc[:,[\"DBN\",\"rr_s\", \"rr_t\", \"rr_p\", \"N_s\", \"N_t\", \"N_p\", \"saf_p_11\", \"com_p_11\", \"eng_p_11\", \"aca_p_11\", \"saf_t_11\", \"com_t_11\", \"eng_t_11\", \"aca_t_11\", \"saf_s_11\", \"com_s_11\", \"eng_s_11\", \"aca_s_11\", \"saf_tot_11\", \"com_tot_11\", \"eng_tot_11\", \"aca_tot_11\"]]\n",
    "data[\"survey\"] = survey"
   ]
  },
  {
   "cell_type": "code",
   "execution_count": 37,
   "metadata": {},
   "outputs": [
    {
     "data": {
      "text/plain": [
       "0        01M015\n",
       "1        01M015\n",
       "2        01M015\n",
       "3        01M015\n",
       "4        01M015\n",
       "          ...  \n",
       "27606    32K564\n",
       "27607    32K564\n",
       "27608    32K564\n",
       "27609    32K564\n",
       "27610    32K564\n",
       "Name: DBN, Length: 27611, dtype: object"
      ]
     },
     "execution_count": 37,
     "metadata": {},
     "output_type": "execute_result"
    }
   ],
   "source": [
    "# Inserting DBN Fields\n",
    "\n",
    "data[\"hs_directory\"][\"DBN\"] = data[\"hs_directory\"][\"dbn\"]\n",
    "\n",
    "def pad(n):\n",
    "    if len(str(n)) > 1:\n",
    "        return str(n)\n",
    "    else:\n",
    "\n",
    "        return str(n).zfill(2)\n",
    "data[\"class_size\"][\"padded_csd\"] = data[\"class_size\"][\"CSD\"].apply(pad)\n",
    "data[\"class_size\"][\"DBN\"] = data[\"class_size\"][\"padded_csd\"] + data[\"class_size\"][\"SCHOOL CODE\"]\n",
    "data['class_size']['DBN']"
   ]
  },
  {
   "cell_type": "code",
   "execution_count": 38,
   "metadata": {},
   "outputs": [],
   "source": [
    "# Combining the SAT Scores\n",
    "\n",
    "cols = [\"SAT Math Avg. Score\",\"SAT Critical Reading Avg. Score\",\"SAT Writing Avg. Score\"]\n",
    "for col in cols:\n",
    "    data[\"sat_results\"][col] = pd.to_numeric(data[\"sat_results\"][col],errors=\"coerce\")\n",
    "\n",
    "data[\"sat_results\"][\"sat_score\"] = data[\"sat_results\"][cols[0]] + data[\"sat_results\"][cols[1]] + data[\"sat_results\"][cols[2]]"
   ]
  },
  {
   "cell_type": "code",
   "execution_count": null,
   "metadata": {},
   "outputs": [],
   "source": []
  }
 ],
 "metadata": {
  "kernelspec": {
   "display_name": "base",
   "language": "python",
   "name": "python3"
  },
  "language_info": {
   "codemirror_mode": {
    "name": "ipython",
    "version": 3
   },
   "file_extension": ".py",
   "mimetype": "text/x-python",
   "name": "python",
   "nbconvert_exporter": "python",
   "pygments_lexer": "ipython3",
   "version": "3.10.9"
  }
 },
 "nbformat": 4,
 "nbformat_minor": 2
}
